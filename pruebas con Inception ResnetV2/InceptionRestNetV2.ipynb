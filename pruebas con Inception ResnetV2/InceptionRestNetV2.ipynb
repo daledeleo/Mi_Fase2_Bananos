{
  "nbformat": 4,
  "nbformat_minor": 0,
  "metadata": {
    "colab": {
      "name": "Pruebas de CNN.ipynb",
      "provenance": [],
      "collapsed_sections": []
    },
    "kernelspec": {
      "name": "python3",
      "display_name": "Python 3"
    }
  },
  "cells": [
    {
      "cell_type": "code",
      "metadata": {
        "id": "Sbc9OwzSc0pv",
        "colab": {
          "base_uri": "https://localhost:8080/"
        },
        "outputId": "54bdb70a-5c68-42f0-b0bf-375b0d2f577d"
      },
      "source": [
        "import sys\n",
        "\n",
        "sys.path.append(\"../\")\n",
        "\n",
        "from funciones import *"
      ],
      "execution_count": 1,
      "outputs": []
    },
    {
      "cell_type": "code",
      "metadata": {
        "id": "PvI4hYBxd9k8",
        "colab": {
          "base_uri": "https://localhost:8080/"
        },
        "outputId": "60204881-7d7d-45b7-abe4-fa154b40b983"
      },
      "source": [
        "\n",
        "img_width=224\n",
        "img_height=224\n",
        "\n",
        "#CARGANDO LOS DATASETS\n",
        "path_root='../../Dataset Real Bananos/'\n",
        "\n",
        "path_test=path_root+'test'\n",
        "imagenes_test=[]\n",
        "directorio_test=[]\n",
        "dircount_test=cargar_dataset(imagenes_test,directorio_test,path_test)\n",
        "\n",
        "path_train=path_root+'train'\n",
        "imagenes_train=[]\n",
        "directorio_train=[]\n",
        "dircount_train=cargar_dataset(imagenes_train,directorio_train,path_train)\n",
        "\n",
        "path_validation=path_root+'validation'\n",
        "imagenes_validation=[]\n",
        "directorio_validation=[]\n",
        "\n",
        "dircount_validation=cargar_dataset(imagenes_validation,directorio_validation,path_validation)"
      ],
      "execution_count": 2,
      "outputs": [
        {
          "output_type": "stream",
          "name": "stdout",
          "text": [
            "leyendo imagenes de  c:\\Users\\leone\\Documents\\Mi_Fase2_Bananos\\pruebas con Inception ResnetV2\\../../Dataset Real Bananos/test\\\n",
            "c:\\Users\\leone\\Documents\\Mi_Fase2_Bananos\\pruebas con Inception ResnetV2\\../../Dataset Real Bananos/test\\Class A 1\n",
            "c:\\Users\\leone\\Documents\\Mi_Fase2_Bananos\\pruebas con Inception ResnetV2\\../../Dataset Real Bananos/test\\Class B 208\n",
            "c:\\Users\\leone\\Documents\\Mi_Fase2_Bananos\\pruebas con Inception ResnetV2\\../../Dataset Real Bananos/test\\Class C 187\n",
            "c:\\Users\\leone\\Documents\\Mi_Fase2_Bananos\\pruebas con Inception ResnetV2\\../../Dataset Real Bananos/test\\Class D 191\n",
            "Directorios leidos: 4\n",
            "Imagenes en cada directorio [209, 187, 191, 213]\n",
            "suma Total de imagenes en subdirs: 800\n",
            "leyendo imagenes de  c:\\Users\\leone\\Documents\\Mi_Fase2_Bananos\\pruebas con Inception ResnetV2\\../../Dataset Real Bananos/train\\\n",
            "c:\\Users\\leone\\Documents\\Mi_Fase2_Bananos\\pruebas con Inception ResnetV2\\../../Dataset Real Bananos/train\\Class A 1\n",
            "c:\\Users\\leone\\Documents\\Mi_Fase2_Bananos\\pruebas con Inception ResnetV2\\../../Dataset Real Bananos/train\\Class B 635\n",
            "c:\\Users\\leone\\Documents\\Mi_Fase2_Bananos\\pruebas con Inception ResnetV2\\../../Dataset Real Bananos/train\\Class C 608\n",
            "c:\\Users\\leone\\Documents\\Mi_Fase2_Bananos\\pruebas con Inception ResnetV2\\../../Dataset Real Bananos/train\\Class D 597\n",
            "Directorios leidos: 4\n",
            "Imagenes en cada directorio [636, 608, 597, 543]\n",
            "suma Total de imagenes en subdirs: 2384\n",
            "leyendo imagenes de  c:\\Users\\leone\\Documents\\Mi_Fase2_Bananos\\pruebas con Inception ResnetV2\\../../Dataset Real Bananos/validation\\\n",
            "c:\\Users\\leone\\Documents\\Mi_Fase2_Bananos\\pruebas con Inception ResnetV2\\../../Dataset Real Bananos/validation\\Class A 1\n",
            "c:\\Users\\leone\\Documents\\Mi_Fase2_Bananos\\pruebas con Inception ResnetV2\\../../Dataset Real Bananos/validation\\Class B 205\n",
            "c:\\Users\\leone\\Documents\\Mi_Fase2_Bananos\\pruebas con Inception ResnetV2\\../../Dataset Real Bananos/validation\\Class C 180\n",
            "c:\\Users\\leone\\Documents\\Mi_Fase2_Bananos\\pruebas con Inception ResnetV2\\../../Dataset Real Bananos/validation\\Class D 222\n",
            "Directorios leidos: 4\n",
            "Imagenes en cada directorio [206, 180, 222, 187]\n",
            "suma Total de imagenes en subdirs: 795\n"
          ]
        }
      ]
    },
    {
      "cell_type": "code",
      "metadata": {
        "id": "Fkij4e0Wdy_m",
        "colab": {
          "base_uri": "https://localhost:8080/",
          "height": 269
        },
        "outputId": "94197a43-57f4-47e0-c076-dc7fbc47f5ba"
      },
      "source": [
        "'''\n",
        "#Imprimiendo las primeras 9 imagenes\n",
        "for i in range(9):\n",
        "\t# define subplot\n",
        "\tpyplot.subplot(330 + 1 + i)\n",
        "\t# plot raw pixel data\n",
        "\tpyplot.imshow(images[i])\n",
        "# show the figure\n",
        "pyplot.show()\n",
        "'''\n"
      ],
      "execution_count": 3,
      "outputs": [
        {
          "output_type": "execute_result",
          "data": {
            "text/plain": [
              "'\\n#Imprimiendo las primeras 9 imagenes\\nfor i in range(9):\\n\\t# define subplot\\n\\tpyplot.subplot(330 + 1 + i)\\n\\t# plot raw pixel data\\n\\tpyplot.imshow(images[i])\\n# show the figure\\npyplot.show()\\n'"
            ]
          },
          "metadata": {},
          "execution_count": 3
        }
      ]
    },
    {
      "cell_type": "code",
      "metadata": {
        "id": "eiAirKlqeiIN",
        "colab": {
          "base_uri": "https://localhost:8080/"
        },
        "outputId": "dc748589-dd71-4155-cd63-60b6d0e8ca3f"
      },
      "source": [
        "X_train,y_train=agregar_etiquetas(directorio_train,dircount_train,imagenes_train)\n",
        "\n",
        "X_test,y_test=agregar_etiquetas(directorio_test,dircount_test,imagenes_test)\n",
        "\n",
        "X_validation,y_validation=agregar_etiquetas(directorio_validation,dircount_validation,imagenes_validation)"
      ],
      "execution_count": 4,
      "outputs": [
        {
          "output_type": "stream",
          "name": "stdout",
          "text": [
            "Cantidad etiquetas creadas:  2384\n",
            "0 Class A\n",
            "1 Class B\n",
            "2 Class C\n",
            "3 Class D\n",
            "Cantidad etiquetas creadas:  800\n",
            "0 Class A\n",
            "1 Class B\n",
            "2 Class C\n",
            "3 Class D\n",
            "Cantidad etiquetas creadas:  795\n",
            "0 Class A\n",
            "1 Class B\n",
            "2 Class C\n",
            "3 Class D\n"
          ]
        }
      ]
    },
    {
      "cell_type": "code",
      "metadata": {
        "id": "WtB7laMheifT",
        "colab": {
          "base_uri": "https://localhost:8080/"
        },
        "outputId": "434b584c-0596-463e-faef-0fe3d7f9f00f"
      },
      "source": [
        "# Find the unique numbers from the train labels\n",
        "classes = np.unique(y_test)\n",
        "nClasses = len(classes)\n",
        "print('Total number of outputs : ', nClasses)\n",
        "print('Output classes : ', classes)"
      ],
      "execution_count": 5,
      "outputs": [
        {
          "output_type": "stream",
          "name": "stdout",
          "text": [
            "Total number of outputs :  4\nOutput classes :  [0 1 2 3]\n"
          ]
        }
      ]
    },
    {
      "cell_type": "code",
      "metadata": {
        "id": "ygORJ3K7eh_q"
      },
      "source": [
        "y_one_hot_test=normalizar_and_one_hot_encoding(X_test,y_test)\n",
        "\n",
        "y_one_hot_train=normalizar_and_one_hot_encoding(X_train,y_train)\n",
        "\n",
        "y_one_hot_validation=normalizar_and_one_hot_encoding(X_validation,y_validation)\n",
        "print('Original label Test:', y_test[0])\n",
        "print('After conversion to one-hot Test:', y_one_hot_test[0])\n",
        "print(\"\\n\")\n",
        "print('Original label Train:', y_train[0])\n",
        "print('After conversion to one-hot Train:', y_one_hot_train[0])\n",
        "print(\"\\n\")\n",
        "print('Original label Validation:', y_validation[0])\n",
        "print('After conversion to one-hot Validation:', y_one_hot_validation[0])\n",
        "print(\"\\n\")\n",
        "print(\"*******************Test****************\")\n",
        "print(X_test.shape, y_one_hot_test.shape)\n",
        "print(\"\\n\")\n",
        "print(\"*******************Train****************\")\n",
        "print(X_train.shape, y_one_hot_train.shape)\n",
        "print(\"\\n\")\n",
        "print(\"*******************Validation****************\")\n",
        "print(X_validation.shape, y_one_hot_validation.shape)\n"
      ],
      "execution_count": 6,
      "outputs": [
        {
          "output_type": "stream",
          "name": "stdout",
          "text": [
            "Original label Test: 0\nAfter conversion to one-hot Test: [1. 0. 0. 0.]\n\n\nOriginal label Train: 0\nAfter conversion to one-hot Train: [1. 0. 0. 0.]\n\n\nOriginal label Validation: 0\nAfter conversion to one-hot Validation: [1. 0. 0. 0.]\n\n\n*******************Test****************\n(800, 224, 224, 3) (800, 4)\n\n\n*******************Train****************\n(2384, 224, 224, 3) (2384, 4)\n\n\n*******************Validation****************\n(795, 224, 224, 3) (795, 4)\n"
          ]
        }
      ]
    },
    {
      "cell_type": "code",
      "metadata": {
        "id": "Cd-uNvKYfKG6",
        "colab": {
          "base_uri": "https://localhost:8080/"
        },
        "outputId": "a90d1a61-eb34-46f8-cb34-ee87804ea5b4"
      },
      "source": [
        "#Construccion del modelo\n",
        "INIT_LR = 1e-3\n",
        "batch_size=50\n",
        "epochs=100\n",
        "inception_arch=InceptionResNetV2(input_shape=(img_width,img_height,3),\n",
        "                                 weights=None, #aqui se puede aplicarTransfer Learning\n",
        "                                 include_top=False)\n",
        "model = Sequential()\n",
        "model.add(inception_arch)\n",
        "model.add(Flatten())\n",
        "model.add(Dropout(0.2))\n",
        "model.add(Dense(1024, activation='relu', kernel_constraint=maxnorm(3)))\n",
        "model.add(Dropout(0.2))\n",
        "model.add(Dense(512, activation='relu', kernel_constraint=maxnorm(3)))\n",
        "model.add(Dropout(0.2))\n",
        "model.add(Dense(nClasses, activation='softmax'))\n",
        "\n",
        "model.compile(loss=keras.losses.categorical_crossentropy, optimizer=keras.optimizers.Adagrad(lr=INIT_LR, decay=INIT_LR / 100),metrics=['accuracy'])\n",
        "model.summary()"
      ],
      "execution_count": 7,
      "outputs": [
        {
          "output_type": "stream",
          "name": "stdout",
          "text": [
            "Model: \"sequential\"\n_________________________________________________________________\nLayer (type)                 Output Shape              Param #   \n=================================================================\ninception_resnet_v2 (Functio (None, 5, 5, 1536)        54336736  \n_________________________________________________________________\nflatten (Flatten)            (None, 38400)             0         \n_________________________________________________________________\ndropout (Dropout)            (None, 38400)             0         \n_________________________________________________________________\ndense (Dense)                (None, 1024)              39322624  \n_________________________________________________________________\ndropout_1 (Dropout)          (None, 1024)              0         \n_________________________________________________________________\ndense_1 (Dense)              (None, 512)               524800    \n_________________________________________________________________\ndropout_2 (Dropout)          (None, 512)               0         \n_________________________________________________________________\ndense_2 (Dense)              (None, 4)                 2052      \n=================================================================\nTotal params: 94,186,212\nTrainable params: 94,125,668\nNon-trainable params: 60,544\n_________________________________________________________________\n"
          ]
        }
      ]
    },
    {
      "cell_type": "code",
      "metadata": {
        "id": "qrhUmQ5DjnmR",
        "colab": {
          "base_uri": "https://localhost:8080/"
        },
        "outputId": "c4ea0140-5e07-43aa-8dbd-4528d5c3d7d2"
      },
      "source": [
        "# Use some functions from tensorflow_docs\n",
        "#!pip install git+https://github.com/tensorflow/docs > /dev/null"
      ],
      "execution_count": 8,
      "outputs": []
    },
    {
      "cell_type": "code",
      "metadata": {
        "id": "mq88uIhnfP4V",
        "colab": {
          "base_uri": "https://localhost:8080/"
        },
        "outputId": "3c151abb-f46d-444c-df1f-537453f6bbfd"
      },
      "source": [
        "#EMPEZANDO EL ENTRENAMIENTO\n",
        "\n",
        "#se termina cuando el accuracy deja de mejorar\n",
        "#import tensorflow_docs as tfdocs\n",
        "#import tensorflow_docs.plots\n",
        "#import tensorflow_docs.modeling\n",
        "\n",
        "#early_stop = keras.callbacks.EarlyStopping(monitor='accuracy', patience=10)\n",
        "\n",
        "'''\n",
        "import tensorflow_docs as tfdocs\n",
        "early_stop = keras.callbacks.EarlyStopping(monitor='val_mae', patience=10)\n",
        "\n",
        "early_history = model.fit(normed_train_data, train_labels, \n",
        "                    epochs=EPOCHS, validation_split = 0.2, verbose=2,\n",
        "                    callbacks=[early_stop, tfdocs.modeling.EpochDots()])\n",
        "                    # callbacks=[tfdocs.modeling.EpochDots()])\n",
        "                    '''\n",
        "history=model.fit(X_train, y_one_hot_train,\n",
        "                  batch_size=batch_size,\n",
        "                  epochs=epochs,\n",
        "                  #callbacks=[early_stop, tfdocs.modeling.EpochDots()],\n",
        "                  verbose=1,\n",
        "                  validation_data=(X_validation, y_one_hot_validation))\n"
      ],
      "execution_count": 9,
      "outputs": [
        {
          "output_type": "stream",
          "name": "stdout",
          "text": [
            "Epoch 1/100\n",
            " 1/48 [..............................] - ETA: 0s - loss: 2.0689 - accuracy: 0.2400"
          ]
        },
        {
          "output_type": "error",
          "ename": "KeyboardInterrupt",
          "evalue": "",
          "traceback": [
            "\u001b[1;31m---------------------------------------------------------------------------\u001b[0m",
            "\u001b[1;31mKeyboardInterrupt\u001b[0m                         Traceback (most recent call last)",
            "\u001b[1;32m<ipython-input-9-de4c4ae742a2>\u001b[0m in \u001b[0;36m<module>\u001b[1;34m\u001b[0m\n\u001b[0;32m     17\u001b[0m                     \u001b[1;31m# callbacks=[tfdocs.modeling.EpochDots()])\u001b[0m\u001b[1;33m\u001b[0m\u001b[1;33m\u001b[0m\u001b[1;33m\u001b[0m\u001b[0m\n\u001b[0;32m     18\u001b[0m                     '''\n\u001b[1;32m---> 19\u001b[1;33m history=model.fit(X_train, y_one_hot_train,\n\u001b[0m\u001b[0;32m     20\u001b[0m                   \u001b[0mbatch_size\u001b[0m\u001b[1;33m=\u001b[0m\u001b[0mbatch_size\u001b[0m\u001b[1;33m,\u001b[0m\u001b[1;33m\u001b[0m\u001b[1;33m\u001b[0m\u001b[0m\n\u001b[0;32m     21\u001b[0m                   \u001b[0mepochs\u001b[0m\u001b[1;33m=\u001b[0m\u001b[0mepochs\u001b[0m\u001b[1;33m,\u001b[0m\u001b[1;33m\u001b[0m\u001b[1;33m\u001b[0m\u001b[0m\n",
            "\u001b[1;32mc:\\Users\\leone\\Documents\\ambientes_virtuales\\cnns\\lib\\site-packages\\tensorflow\\python\\keras\\engine\\training.py\u001b[0m in \u001b[0;36m_method_wrapper\u001b[1;34m(self, *args, **kwargs)\u001b[0m\n\u001b[0;32m    106\u001b[0m   \u001b[1;32mdef\u001b[0m \u001b[0m_method_wrapper\u001b[0m\u001b[1;33m(\u001b[0m\u001b[0mself\u001b[0m\u001b[1;33m,\u001b[0m \u001b[1;33m*\u001b[0m\u001b[0margs\u001b[0m\u001b[1;33m,\u001b[0m \u001b[1;33m**\u001b[0m\u001b[0mkwargs\u001b[0m\u001b[1;33m)\u001b[0m\u001b[1;33m:\u001b[0m\u001b[1;33m\u001b[0m\u001b[1;33m\u001b[0m\u001b[0m\n\u001b[0;32m    107\u001b[0m     \u001b[1;32mif\u001b[0m \u001b[1;32mnot\u001b[0m \u001b[0mself\u001b[0m\u001b[1;33m.\u001b[0m\u001b[0m_in_multi_worker_mode\u001b[0m\u001b[1;33m(\u001b[0m\u001b[1;33m)\u001b[0m\u001b[1;33m:\u001b[0m  \u001b[1;31m# pylint: disable=protected-access\u001b[0m\u001b[1;33m\u001b[0m\u001b[1;33m\u001b[0m\u001b[0m\n\u001b[1;32m--> 108\u001b[1;33m       \u001b[1;32mreturn\u001b[0m \u001b[0mmethod\u001b[0m\u001b[1;33m(\u001b[0m\u001b[0mself\u001b[0m\u001b[1;33m,\u001b[0m \u001b[1;33m*\u001b[0m\u001b[0margs\u001b[0m\u001b[1;33m,\u001b[0m \u001b[1;33m**\u001b[0m\u001b[0mkwargs\u001b[0m\u001b[1;33m)\u001b[0m\u001b[1;33m\u001b[0m\u001b[1;33m\u001b[0m\u001b[0m\n\u001b[0m\u001b[0;32m    109\u001b[0m \u001b[1;33m\u001b[0m\u001b[0m\n\u001b[0;32m    110\u001b[0m     \u001b[1;31m# Running inside `run_distribute_coordinator` already.\u001b[0m\u001b[1;33m\u001b[0m\u001b[1;33m\u001b[0m\u001b[1;33m\u001b[0m\u001b[0m\n",
            "\u001b[1;32mc:\\Users\\leone\\Documents\\ambientes_virtuales\\cnns\\lib\\site-packages\\tensorflow\\python\\keras\\engine\\training.py\u001b[0m in \u001b[0;36mfit\u001b[1;34m(self, x, y, batch_size, epochs, verbose, callbacks, validation_split, validation_data, shuffle, class_weight, sample_weight, initial_epoch, steps_per_epoch, validation_steps, validation_batch_size, validation_freq, max_queue_size, workers, use_multiprocessing)\u001b[0m\n\u001b[0;32m   1096\u001b[0m                 batch_size=batch_size):\n\u001b[0;32m   1097\u001b[0m               \u001b[0mcallbacks\u001b[0m\u001b[1;33m.\u001b[0m\u001b[0mon_train_batch_begin\u001b[0m\u001b[1;33m(\u001b[0m\u001b[0mstep\u001b[0m\u001b[1;33m)\u001b[0m\u001b[1;33m\u001b[0m\u001b[1;33m\u001b[0m\u001b[0m\n\u001b[1;32m-> 1098\u001b[1;33m               \u001b[0mtmp_logs\u001b[0m \u001b[1;33m=\u001b[0m \u001b[0mtrain_function\u001b[0m\u001b[1;33m(\u001b[0m\u001b[0miterator\u001b[0m\u001b[1;33m)\u001b[0m\u001b[1;33m\u001b[0m\u001b[1;33m\u001b[0m\u001b[0m\n\u001b[0m\u001b[0;32m   1099\u001b[0m               \u001b[1;32mif\u001b[0m \u001b[0mdata_handler\u001b[0m\u001b[1;33m.\u001b[0m\u001b[0mshould_sync\u001b[0m\u001b[1;33m:\u001b[0m\u001b[1;33m\u001b[0m\u001b[1;33m\u001b[0m\u001b[0m\n\u001b[0;32m   1100\u001b[0m                 \u001b[0mcontext\u001b[0m\u001b[1;33m.\u001b[0m\u001b[0masync_wait\u001b[0m\u001b[1;33m(\u001b[0m\u001b[1;33m)\u001b[0m\u001b[1;33m\u001b[0m\u001b[1;33m\u001b[0m\u001b[0m\n",
            "\u001b[1;32mc:\\Users\\leone\\Documents\\ambientes_virtuales\\cnns\\lib\\site-packages\\tensorflow\\python\\eager\\def_function.py\u001b[0m in \u001b[0;36m__call__\u001b[1;34m(self, *args, **kwds)\u001b[0m\n\u001b[0;32m    778\u001b[0m       \u001b[1;32melse\u001b[0m\u001b[1;33m:\u001b[0m\u001b[1;33m\u001b[0m\u001b[1;33m\u001b[0m\u001b[0m\n\u001b[0;32m    779\u001b[0m         \u001b[0mcompiler\u001b[0m \u001b[1;33m=\u001b[0m \u001b[1;34m\"nonXla\"\u001b[0m\u001b[1;33m\u001b[0m\u001b[1;33m\u001b[0m\u001b[0m\n\u001b[1;32m--> 780\u001b[1;33m         \u001b[0mresult\u001b[0m \u001b[1;33m=\u001b[0m \u001b[0mself\u001b[0m\u001b[1;33m.\u001b[0m\u001b[0m_call\u001b[0m\u001b[1;33m(\u001b[0m\u001b[1;33m*\u001b[0m\u001b[0margs\u001b[0m\u001b[1;33m,\u001b[0m \u001b[1;33m**\u001b[0m\u001b[0mkwds\u001b[0m\u001b[1;33m)\u001b[0m\u001b[1;33m\u001b[0m\u001b[1;33m\u001b[0m\u001b[0m\n\u001b[0m\u001b[0;32m    781\u001b[0m \u001b[1;33m\u001b[0m\u001b[0m\n\u001b[0;32m    782\u001b[0m       \u001b[0mnew_tracing_count\u001b[0m \u001b[1;33m=\u001b[0m \u001b[0mself\u001b[0m\u001b[1;33m.\u001b[0m\u001b[0m_get_tracing_count\u001b[0m\u001b[1;33m(\u001b[0m\u001b[1;33m)\u001b[0m\u001b[1;33m\u001b[0m\u001b[1;33m\u001b[0m\u001b[0m\n",
            "\u001b[1;32mc:\\Users\\leone\\Documents\\ambientes_virtuales\\cnns\\lib\\site-packages\\tensorflow\\python\\eager\\def_function.py\u001b[0m in \u001b[0;36m_call\u001b[1;34m(self, *args, **kwds)\u001b[0m\n\u001b[0;32m    805\u001b[0m       \u001b[1;31m# In this case we have created variables on the first call, so we run the\u001b[0m\u001b[1;33m\u001b[0m\u001b[1;33m\u001b[0m\u001b[1;33m\u001b[0m\u001b[0m\n\u001b[0;32m    806\u001b[0m       \u001b[1;31m# defunned version which is guaranteed to never create variables.\u001b[0m\u001b[1;33m\u001b[0m\u001b[1;33m\u001b[0m\u001b[1;33m\u001b[0m\u001b[0m\n\u001b[1;32m--> 807\u001b[1;33m       \u001b[1;32mreturn\u001b[0m \u001b[0mself\u001b[0m\u001b[1;33m.\u001b[0m\u001b[0m_stateless_fn\u001b[0m\u001b[1;33m(\u001b[0m\u001b[1;33m*\u001b[0m\u001b[0margs\u001b[0m\u001b[1;33m,\u001b[0m \u001b[1;33m**\u001b[0m\u001b[0mkwds\u001b[0m\u001b[1;33m)\u001b[0m  \u001b[1;31m# pylint: disable=not-callable\u001b[0m\u001b[1;33m\u001b[0m\u001b[1;33m\u001b[0m\u001b[0m\n\u001b[0m\u001b[0;32m    808\u001b[0m     \u001b[1;32melif\u001b[0m \u001b[0mself\u001b[0m\u001b[1;33m.\u001b[0m\u001b[0m_stateful_fn\u001b[0m \u001b[1;32mis\u001b[0m \u001b[1;32mnot\u001b[0m \u001b[1;32mNone\u001b[0m\u001b[1;33m:\u001b[0m\u001b[1;33m\u001b[0m\u001b[1;33m\u001b[0m\u001b[0m\n\u001b[0;32m    809\u001b[0m       \u001b[1;31m# Release the lock early so that multiple threads can perform the call\u001b[0m\u001b[1;33m\u001b[0m\u001b[1;33m\u001b[0m\u001b[1;33m\u001b[0m\u001b[0m\n",
            "\u001b[1;32mc:\\Users\\leone\\Documents\\ambientes_virtuales\\cnns\\lib\\site-packages\\tensorflow\\python\\eager\\function.py\u001b[0m in \u001b[0;36m__call__\u001b[1;34m(self, *args, **kwargs)\u001b[0m\n\u001b[0;32m   2827\u001b[0m     \u001b[1;32mwith\u001b[0m \u001b[0mself\u001b[0m\u001b[1;33m.\u001b[0m\u001b[0m_lock\u001b[0m\u001b[1;33m:\u001b[0m\u001b[1;33m\u001b[0m\u001b[1;33m\u001b[0m\u001b[0m\n\u001b[0;32m   2828\u001b[0m       \u001b[0mgraph_function\u001b[0m\u001b[1;33m,\u001b[0m \u001b[0margs\u001b[0m\u001b[1;33m,\u001b[0m \u001b[0mkwargs\u001b[0m \u001b[1;33m=\u001b[0m \u001b[0mself\u001b[0m\u001b[1;33m.\u001b[0m\u001b[0m_maybe_define_function\u001b[0m\u001b[1;33m(\u001b[0m\u001b[0margs\u001b[0m\u001b[1;33m,\u001b[0m \u001b[0mkwargs\u001b[0m\u001b[1;33m)\u001b[0m\u001b[1;33m\u001b[0m\u001b[1;33m\u001b[0m\u001b[0m\n\u001b[1;32m-> 2829\u001b[1;33m     \u001b[1;32mreturn\u001b[0m \u001b[0mgraph_function\u001b[0m\u001b[1;33m.\u001b[0m\u001b[0m_filtered_call\u001b[0m\u001b[1;33m(\u001b[0m\u001b[0margs\u001b[0m\u001b[1;33m,\u001b[0m \u001b[0mkwargs\u001b[0m\u001b[1;33m)\u001b[0m  \u001b[1;31m# pylint: disable=protected-access\u001b[0m\u001b[1;33m\u001b[0m\u001b[1;33m\u001b[0m\u001b[0m\n\u001b[0m\u001b[0;32m   2830\u001b[0m \u001b[1;33m\u001b[0m\u001b[0m\n\u001b[0;32m   2831\u001b[0m   \u001b[1;33m@\u001b[0m\u001b[0mproperty\u001b[0m\u001b[1;33m\u001b[0m\u001b[1;33m\u001b[0m\u001b[0m\n",
            "\u001b[1;32mc:\\Users\\leone\\Documents\\ambientes_virtuales\\cnns\\lib\\site-packages\\tensorflow\\python\\eager\\function.py\u001b[0m in \u001b[0;36m_filtered_call\u001b[1;34m(self, args, kwargs, cancellation_manager)\u001b[0m\n\u001b[0;32m   1841\u001b[0m       \u001b[0;31m`\u001b[0m\u001b[0margs\u001b[0m\u001b[0;31m`\u001b[0m \u001b[1;32mand\u001b[0m\u001b[0;31m \u001b[0m\u001b[0;31m`\u001b[0m\u001b[0mkwargs\u001b[0m\u001b[0;31m`\u001b[0m\u001b[1;33m.\u001b[0m\u001b[1;33m\u001b[0m\u001b[1;33m\u001b[0m\u001b[0m\n\u001b[0;32m   1842\u001b[0m     \"\"\"\n\u001b[1;32m-> 1843\u001b[1;33m     return self._call_flat(\n\u001b[0m\u001b[0;32m   1844\u001b[0m         [t for t in nest.flatten((args, kwargs), expand_composites=True)\n\u001b[0;32m   1845\u001b[0m          if isinstance(t, (ops.Tensor,\n",
            "\u001b[1;32mc:\\Users\\leone\\Documents\\ambientes_virtuales\\cnns\\lib\\site-packages\\tensorflow\\python\\eager\\function.py\u001b[0m in \u001b[0;36m_call_flat\u001b[1;34m(self, args, captured_inputs, cancellation_manager)\u001b[0m\n\u001b[0;32m   1921\u001b[0m         and executing_eagerly):\n\u001b[0;32m   1922\u001b[0m       \u001b[1;31m# No tape is watching; skip to running the function.\u001b[0m\u001b[1;33m\u001b[0m\u001b[1;33m\u001b[0m\u001b[1;33m\u001b[0m\u001b[0m\n\u001b[1;32m-> 1923\u001b[1;33m       return self._build_call_outputs(self._inference_function.call(\n\u001b[0m\u001b[0;32m   1924\u001b[0m           ctx, args, cancellation_manager=cancellation_manager))\n\u001b[0;32m   1925\u001b[0m     forward_backward = self._select_forward_and_backward_functions(\n",
            "\u001b[1;32mc:\\Users\\leone\\Documents\\ambientes_virtuales\\cnns\\lib\\site-packages\\tensorflow\\python\\eager\\function.py\u001b[0m in \u001b[0;36mcall\u001b[1;34m(self, ctx, args, cancellation_manager)\u001b[0m\n\u001b[0;32m    543\u001b[0m       \u001b[1;32mwith\u001b[0m \u001b[0m_InterpolateFunctionError\u001b[0m\u001b[1;33m(\u001b[0m\u001b[0mself\u001b[0m\u001b[1;33m)\u001b[0m\u001b[1;33m:\u001b[0m\u001b[1;33m\u001b[0m\u001b[1;33m\u001b[0m\u001b[0m\n\u001b[0;32m    544\u001b[0m         \u001b[1;32mif\u001b[0m \u001b[0mcancellation_manager\u001b[0m \u001b[1;32mis\u001b[0m \u001b[1;32mNone\u001b[0m\u001b[1;33m:\u001b[0m\u001b[1;33m\u001b[0m\u001b[1;33m\u001b[0m\u001b[0m\n\u001b[1;32m--> 545\u001b[1;33m           outputs = execute.execute(\n\u001b[0m\u001b[0;32m    546\u001b[0m               \u001b[0mstr\u001b[0m\u001b[1;33m(\u001b[0m\u001b[0mself\u001b[0m\u001b[1;33m.\u001b[0m\u001b[0msignature\u001b[0m\u001b[1;33m.\u001b[0m\u001b[0mname\u001b[0m\u001b[1;33m)\u001b[0m\u001b[1;33m,\u001b[0m\u001b[1;33m\u001b[0m\u001b[1;33m\u001b[0m\u001b[0m\n\u001b[0;32m    547\u001b[0m               \u001b[0mnum_outputs\u001b[0m\u001b[1;33m=\u001b[0m\u001b[0mself\u001b[0m\u001b[1;33m.\u001b[0m\u001b[0m_num_outputs\u001b[0m\u001b[1;33m,\u001b[0m\u001b[1;33m\u001b[0m\u001b[1;33m\u001b[0m\u001b[0m\n",
            "\u001b[1;32mc:\\Users\\leone\\Documents\\ambientes_virtuales\\cnns\\lib\\site-packages\\tensorflow\\python\\eager\\execute.py\u001b[0m in \u001b[0;36mquick_execute\u001b[1;34m(op_name, num_outputs, inputs, attrs, ctx, name)\u001b[0m\n\u001b[0;32m     57\u001b[0m   \u001b[1;32mtry\u001b[0m\u001b[1;33m:\u001b[0m\u001b[1;33m\u001b[0m\u001b[1;33m\u001b[0m\u001b[0m\n\u001b[0;32m     58\u001b[0m     \u001b[0mctx\u001b[0m\u001b[1;33m.\u001b[0m\u001b[0mensure_initialized\u001b[0m\u001b[1;33m(\u001b[0m\u001b[1;33m)\u001b[0m\u001b[1;33m\u001b[0m\u001b[1;33m\u001b[0m\u001b[0m\n\u001b[1;32m---> 59\u001b[1;33m     tensors = pywrap_tfe.TFE_Py_Execute(ctx._handle, device_name, op_name,\n\u001b[0m\u001b[0;32m     60\u001b[0m                                         inputs, attrs, num_outputs)\n\u001b[0;32m     61\u001b[0m   \u001b[1;32mexcept\u001b[0m \u001b[0mcore\u001b[0m\u001b[1;33m.\u001b[0m\u001b[0m_NotOkStatusException\u001b[0m \u001b[1;32mas\u001b[0m \u001b[0me\u001b[0m\u001b[1;33m:\u001b[0m\u001b[1;33m\u001b[0m\u001b[1;33m\u001b[0m\u001b[0m\n",
            "\u001b[1;31mKeyboardInterrupt\u001b[0m: "
          ]
        }
      ]
    },
    {
      "cell_type": "code",
      "execution_count": null,
      "metadata": {},
      "outputs": [],
      "source": [
        "_, acc = model.evaluate(X_test, y_one_hot_test, verbose=0)\n",
        "\tprint('> %.3f' % (acc * 100.0))"
      ]
    },
    {
      "cell_type": "code",
      "execution_count": null,
      "metadata": {},
      "outputs": [],
      "source": [
        "path_modelo='./modelos/ipception_resnetV2.h5'\n",
        "model.save(path_modelo)"
      ]
    },
    {
      "cell_type": "code",
      "metadata": {
        "id": "LqEUkU3ZfTZv"
      },
      "source": [
        "\n",
        "# entry point, run the example\n",
        "run_example('../imagenes de prueba/banana1_C.jpg',path_modelo)"
      ],
      "execution_count": null,
      "outputs": []
    }
  ]
}